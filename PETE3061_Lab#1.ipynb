{
 "cells": [
  {
   "cell_type": "markdown",
   "metadata": {},
   "source": [
    "# Introduction to Modeling"
   ]
  },
  {
   "cell_type": "markdown",
   "metadata": {},
   "source": [
    "## What are models?"
   ]
  },
  {
   "cell_type": "markdown",
   "metadata": {},
   "source": [
    "https://en.wikipedia.org/wiki/Mathematical_model\n",
    "\n",
    "A model is the use of mathematics as the language to describe a natural or man-made system. Models are used to understand systems and to help make predictions of the system behavior. Great models become Laws (like Newton's Laws or Einstein's Relativity). The key to modeling is to keep it simple, but not too simple.\n",
    "\n",
    "It is tradition that models are organized as follows:\n",
    "\n",
    "* Governing equations\n",
    "* Supplementary sub-models\n",
    "    * Defining equations\n",
    "    * Constitutive equations\n",
    "* Assumptions and constraints\n",
    "    * Initial and boundary conditions\n",
    "    * Classical constraints and kinematic equations\n",
    "\n",
    "There are multiple classifications of Mathematical Models.\n",
    "https://en.wikipedia.org/wiki/Mathematical_model#Classifications\n",
    "\n"
   ]
  },
  {
   "cell_type": "markdown",
   "metadata": {},
   "source": [
    "In the simplest of terms a mathmatical model is just using independent variables (time, location, depth, etc.) to determine dependent variables (location, pressure, volume, etc.).\n",
    "\n",
    "$$\\begin{array}{c}\n",
    "Dependent\\\\variable\n",
    "\\end{array} = f\\left(\\begin{array}{c}\n",
    "independent\\\\variable\n",
    "\\end{array}, parameters, \\begin{array}{c}\n",
    "forcing\\\\functions\n",
    "\\end{array}\\right )$$\n",
    "\n",
    "Dependent variables are characteristic of the system. Independent variables are usually dimensions or time. Parameters are some form of the systems properties. Forcing functions are external influences to the system.\n"
   ]
  },
  {
   "cell_type": "markdown",
   "metadata": {},
   "source": [
    "## An example modeling problem"
   ]
  },
  {
   "cell_type": "markdown",
   "metadata": {},
   "source": [
    "### Newton's 2nd Law of Motion\n",
    "The force acting on the body $F$ in *Newtons (N)* is equal to the mass $m$ of the body in *kg* times its acceleration $a$ in $m/s^2$\n",
    "\n",
    "$${F=ma}$$\n",
    "\n",
    "If we rearrange with get a more desciptive form:\n",
    "\n",
    "$$a = \\frac{F}{m}$$\n",
    "\n",
    "where $a$ is the dependent variable, $m$ is the parameter reflecting a property of the system, and $F$ is obviously the forcing function.\n",
    "\n",
    "The model has the following characteristics:\n",
    "1. It describes a natural process\n",
    "2. Its an idealization or simplifications (it doesn't include quantum or relativistic corrections)\n",
    "3. It renders useful and reproducable results that can be used to predict behavior of a system\n",
    "\n",
    "It is algebraic, so it is super easy to solve. The real fun is when we bring back the Calculus and solve the problem of a *Tom Petty Object* (a free falling body). \n",
    "\n",
    "![falling body](fig1.png)\n",
    "\n",
    "Using the differential form of acceleration (the infinitesimal change of velocity with the change in time)  we can rewrite the 2nd Law as:\n",
    "\n",
    "$$\\frac{dv}{dt}=\\frac{F}{m}$$\n",
    "\n",
    "The next step is a force balance, the force down $F_D$ has to equal the force up $F_U$. The downward force is that of gravity:\n",
    "\n",
    "$$F_D=mg$$\n",
    "\n",
    "where g is gravitational constant $9.81m/s^2$ on Earth and assuming down is the \"positive\" direction. The upward force is slightly more complex and is known as *Drag Force*. For the time being, we will need to create a secondary (constituent) model for drag. We will assume it is linearly proportional to velocity and acts in the upward \"negative\" direction.\n",
    "\n",
    "$$F_U=-cv$$\n",
    "\n",
    "$c$ is the proportionality constant called the *drag coefficient* and is in $kg/s$.\n",
    "\n",
    "Therefore doing our force balance, we come up with the following equation:\n",
    "\n",
    "$$\\frac{dv}{dt}=\\frac{F}{m}=\\frac{mg-cv}{m}$$\n",
    "\n",
    "This can be simplified into the following differential equation:\n",
    "\n",
    "$$\\frac{dv}{dt}=g-\\frac{c}{m}v$$"
   ]
  },
  {
   "cell_type": "markdown",
   "metadata": {},
   "source": [
    "## Solving the Equation\n",
    "### Symbolic Solutions in Python (Sympy)"
   ]
  },
  {
   "cell_type": "markdown",
   "metadata": {},
   "source": [
    "#### Call the Sympy library\n",
    "This line also initiates the \"pretty\" printing functionality of sympy"
   ]
  },
  {
   "cell_type": "code",
   "execution_count": 20,
   "metadata": {},
   "outputs": [],
   "source": [
    "import sympy as sym\n",
    "sym.init_printing()"
   ]
  },
  {
   "cell_type": "markdown",
   "metadata": {},
   "source": [
    "#### Setup the variables and Build the Function"
   ]
  },
  {
   "cell_type": "code",
   "execution_count": 21,
   "metadata": {},
   "outputs": [
    {
     "data": {
      "image/png": "[encoded data removed]",
      "text/latex": [
       "$$\\frac{d}{d t} v{\\left (t \\right )} = \\frac{- c v{\\left (t \\right )} + g m}{m}$$"
      ],
      "text/plain": [
       "d          -c⋅v(t) + g⋅m\n",
       "──(v(t)) = ─────────────\n",
       "dt               m      "
      ]
     },
     "execution_count": 21,
     "metadata": {},
     "output_type": "execute_result"
    }
   ],
   "source": [
    "t, m, c, g = sym.symbols('t m c g')\n",
    "v = sym.Function('v')(t)\n",
    "dvdt = v.diff(t)\n",
    "expr = sym.Eq(dvdt, ((m*g)-(c*v))/m)\n",
    "expr"
   ]
  },
  {
   "cell_type": "markdown",
   "metadata": {},
   "source": [
    "#### Determine what kind of ODE it is (wish this existed when I took DiffEQ)"
   ]
  },
  {
   "cell_type": "code",
   "execution_count": 22,
   "metadata": {},
   "outputs": [
    {
     "data": {
      "text/plain": [
       "('separable',\n",
       " '1st_linear',\n",
       " 'Bernoulli',\n",
       " 'almost_linear',\n",
       " '1st_power_series',\n",
       " 'lie_group',\n",
       " 'nth_linear_constant_coeff_undetermined_coefficients',\n",
       " 'nth_linear_constant_coeff_variation_of_parameters',\n",
       " 'separable_Integral',\n",
       " '1st_linear_Integral',\n",
       " 'Bernoulli_Integral',\n",
       " 'almost_linear_Integral',\n",
       " 'nth_linear_constant_coeff_variation_of_parameters_Integral')"
      ]
     },
     "execution_count": 22,
     "metadata": {},
     "output_type": "execute_result"
    }
   ],
   "source": [
    "sym.classify_ode(expr)"
   ]
  },
  {
   "cell_type": "markdown",
   "metadata": {},
   "source": [
    "#### Solve for the general expression"
   ]
  },
  {
   "cell_type": "code",
   "execution_count": 23,
   "metadata": {},
   "outputs": [
    {
     "data": {
      "image/png": "[encoded data removed]",
      "text/latex": [
       "$$v{\\left (t \\right )} = \\frac{g m + e^{c \\left(C_{1} - \\frac{t}{m}\\right)}}{c}$$"
      ],
      "text/plain": [
       "                ⎛     t⎞\n",
       "              c⋅⎜C₁ - ─⎟\n",
       "                ⎝     m⎠\n",
       "       g⋅m + ℯ          \n",
       "v(t) = ─────────────────\n",
       "               c        "
      ]
     },
     "execution_count": 23,
     "metadata": {},
     "output_type": "execute_result"
    }
   ],
   "source": [
    "soln = sym.dsolve(expr,v)\n",
    "soln"
   ]
  },
  {
   "cell_type": "markdown",
   "metadata": {},
   "source": [
    "#### Find the exact solution for initial conditions ($v=0$ at $t = 0$)\n"
   ]
  },
  {
   "cell_type": "code",
   "execution_count": 24,
   "metadata": {},
   "outputs": [
    {
     "data": {
      "image/png": "[encoded data removed]",
      "text/latex": [
       "$$\\left [ v{\\left (0 \\right )}, \\quad \\frac{g m + e^{C_{1} c}}{c}\\right ]$$"
      ],
      "text/plain": [
       "⎡             C₁⋅c⎤\n",
       "⎢      g⋅m + ℯ    ⎥\n",
       "⎢v(0), ───────────⎥\n",
       "⎣           c     ⎦"
      ]
     },
     "execution_count": 24,
     "metadata": {},
     "output_type": "execute_result"
    }
   ],
   "source": [
    "ics = [soln.lhs.subs(t,0) - 0,soln.rhs.subs(t,0) - 0]\n",
    "ics"
   ]
  },
  {
   "cell_type": "code",
   "execution_count": 25,
   "metadata": {},
   "outputs": [
    {
     "data": {
      "image/png": "[encoded data removed]",
      "text/latex": [
       "$$\\left [ \\left \\{ C_{1} : \\frac{\\log{\\left (- g m \\right )}}{c}\\right \\}\\right ]$$"
      ],
      "text/plain": [
       "⎡⎧    log(-g⋅m)⎫⎤\n",
       "⎢⎨C₁: ─────────⎬⎥\n",
       "⎣⎩        c    ⎭⎦"
      ]
     },
     "execution_count": 25,
     "metadata": {},
     "output_type": "execute_result"
    }
   ],
   "source": [
    "constant = sym.solve(ics) \n",
    "constant"
   ]
  },
  {
   "cell_type": "markdown",
   "metadata": {},
   "source": [
    "#### Substitute Coefficient to Find Exact Solution"
   ]
  },
  {
   "cell_type": "code",
   "execution_count": 26,
   "metadata": {},
   "outputs": [],
   "source": [
    "C1 = sym.symbols('C1')"
   ]
  },
  {
   "cell_type": "code",
   "execution_count": 27,
   "metadata": {},
   "outputs": [
    {
     "data": {
      "image/png": "[encoded data removed]",
      "text/latex": [
       "$$v{\\left (t \\right )} = \\frac{g m + e^{c \\left(- \\frac{t}{m} + \\frac{\\log{\\left (- g m \\right )}}{c}\\right)}}{c}$$"
      ],
      "text/plain": [
       "                ⎛  t   log(-g⋅m)⎞\n",
       "              c⋅⎜- ─ + ─────────⎟\n",
       "                ⎝  m       c    ⎠\n",
       "       g⋅m + ℯ                   \n",
       "v(t) = ──────────────────────────\n",
       "                   c             "
      ]
     },
     "execution_count": 27,
     "metadata": {},
     "output_type": "execute_result"
    }
   ],
   "source": [
    "ext_soln = soln.subs(constant[0])\n",
    "ext_soln"
   ]
  },
  {
   "cell_type": "markdown",
   "metadata": {},
   "source": [
    "#### Make it pretty with simplify"
   ]
  },
  {
   "cell_type": "code",
   "execution_count": 28,
   "metadata": {},
   "outputs": [
    {
     "data": {
      "image/png": "[encoded data removed]",
      "text/latex": [
       "$$v{\\left (t \\right )} = \\frac{g m \\left(1 - e^{- \\frac{c t}{m}}\\right)}{c}$$"
      ],
      "text/plain": [
       "           ⎛     -c⋅t ⎞\n",
       "           ⎜     ─────⎟\n",
       "           ⎜       m  ⎟\n",
       "       g⋅m⋅⎝1 - ℯ     ⎠\n",
       "v(t) = ────────────────\n",
       "              c        "
      ]
     },
     "execution_count": 28,
     "metadata": {},
     "output_type": "execute_result"
    }
   ],
   "source": [
    "sym.simplify(ext_soln)"
   ]
  },
  {
   "cell_type": "markdown",
   "metadata": {},
   "source": [
    "#### Evaluating for specific values (Substitution)\n",
    "If the falling object is on Earth ($9.81m/s$), has a mass of $68kg$, and has a drag coefficient of $12.5kg/s$. "
   ]
  },
  {
   "cell_type": "code",
   "execution_count": 29,
   "metadata": {},
   "outputs": [],
   "source": [
    "ext_soln_const = ext_soln.subs([(g, 9.81),(m, 68.),(c, 12.5)])"
   ]
  },
  {
   "cell_type": "code",
   "execution_count": 30,
   "metadata": {},
   "outputs": [
    {
     "data": {
      "image/png": "[encoded data removed]",
      "text/latex": [
       "$$v{\\left (t \\right )} = 53.3664 e^{- 0.183823529411765 t + 1.0 i \\pi} + 53.3664$$"
      ],
      "text/plain": [
       "                -0.183823529411765⋅t + 1.0⋅ⅈ⋅π          \n",
       "v(t) = 53.3664⋅ℯ                               + 53.3664"
      ]
     },
     "execution_count": 30,
     "metadata": {},
     "output_type": "execute_result"
    }
   ],
   "source": [
    "sym.simplify(ext_soln_const)"
   ]
  },
  {
   "cell_type": "markdown",
   "metadata": {},
   "source": [
    "#### Plotting "
   ]
  },
  {
   "cell_type": "code",
   "execution_count": 31,
   "metadata": {},
   "outputs": [
    {
     "data": {
      "image/png": "[encoded data removed]",
      "text/plain": [
       "<Figure size 432x288 with 1 Axes>"
      ]
     },
     "metadata": {
      "needs_background": "light"
     },
     "output_type": "display_data"
    }
   ],
   "source": [
    "p1 = sym.plot(ext_soln_const.rhs,xlim = {0,12}, ylim = {0,100},xlabel = 'time (t)',ylabel = 'Velocity',show=False)\n",
    "p1.show()"
   ]
  },
  {
   "cell_type": "code",
   "execution_count": 32,
   "metadata": {},
   "outputs": [
    {
     "name": "stdout",
     "output_type": "stream",
     "text": [
      "Eq(v(0), 3.5527136788005e-14)\n",
      "Eq(v(2), 16.4175591688156)\n",
      "Eq(v(4), 27.7844450851434)\n",
      "Eq(v(6), 35.6544392850263)\n",
      "Eq(v(8), 41.1033202856899)\n",
      "Eq(v(10), 44.8759157165525)\n",
      "Eq(v(12), 47.4879155534424)\n",
      "Eq(v(oo), 53.3664)\n"
     ]
    }
   ],
   "source": [
    "times = [0,2,4,6,8,10,12,sym.oo] #sym.oo is infinity\n",
    "for time in times:\n",
    "    print(sym.simplify(ext_soln_const.subs(t,time)))"
   ]
  },
  {
   "cell_type": "markdown",
   "metadata": {},
   "source": [
    "### Numerical Solution"
   ]
  },
  {
   "cell_type": "markdown",
   "metadata": {},
   "source": [
    "We can approximate the Second law derivative using what is known as a *finite difference*, meaning we can compute the slope on ever more refined finite intervals. So an approximation of the derivative is as follows:\n",
    "\n",
    "$$\\frac{dv}{dt}\\cong\\frac{\\Delta v}{\\Delta t}=\\frac{v(t_{i+1})-v(t_i)}{t_{i+1}-t_i}$$\n",
    "\n",
    "where $\\Delta v$ and $\\Delta t$ are the differences in velocity and time computed over finite intervals. This is visualized below."
   ]
  },
  {
   "cell_type": "markdown",
   "metadata": {},
   "source": [
    "![finite difference](fig2.png)"
   ]
  },
  {
   "cell_type": "markdown",
   "metadata": {},
   "source": [
    "Remember your calculus. \n",
    "\n",
    "$$\\frac{dv}{dt}=\\lim_{t \\to 0} \\frac{\\Delta v}{\\Delta t}$$\n",
    "\n",
    "So to best approximate the solution, we would continue to shrink the difference, here called the time step ($\\Delta t$) to improve our results. Lets substitute and test it out.\n",
    "\n",
    "$$\\frac{v(t_{i+1})-v(t_i)}{t_{i+1}-t_i}=g-\\frac{c}{m}v(t_i)$$\n",
    "\n",
    "If we rearrange this we get the following:\n",
    "\n",
    "$$v(t_{i+1})=v(t_i)+\\left [g-\\frac{c}{m}v(t_i)\\right](t_{i+1}-t_i)$$\n",
    "\n",
    "Now we have an algebraic equation that we can use to solve numerically for the solution. Using the following algorithm:\n",
    "\n",
    "$$New\\space Value = old\\space value+slope \\times step\\space size$$\n",
    "\n",
    "This is called Euler's Method and we will come back to it later in this course."
   ]
  },
  {
   "cell_type": "markdown",
   "metadata": {},
   "source": [
    "Now lets create a function that will call the algebraic equation defined above for the differential. "
   ]
  },
  {
   "cell_type": "code",
   "execution_count": 33,
   "metadata": {},
   "outputs": [],
   "source": [
    "def diff(vti,ti,g,c,m,delt):\n",
    "    ti_1 = ti+delt\n",
    "    vti_1=vti+(g-(c/m)*vti)*(ti_1-ti)\n",
    "    return vti_1"
   ]
  },
  {
   "cell_type": "markdown",
   "metadata": {},
   "source": [
    "#### Testing the algebraic solution for values of $g=9.81m/s^2$, $c=12.5kg/s$, and $m=68.0$. Using a time step of 2 seconds"
   ]
  },
  {
   "cell_type": "code",
   "execution_count": 34,
   "metadata": {},
   "outputs": [
    {
     "data": {
      "image/png": "[encoded data removed]",
      "text/latex": [
       "$$19.62$$"
      ],
      "text/plain": [
       "19.62"
      ]
     },
     "execution_count": 34,
     "metadata": {},
     "output_type": "execute_result"
    }
   ],
   "source": [
    "g = 9.81\n",
    "c = 12.5\n",
    "m = 68.\n",
    "delt = 2\n",
    "diff(0,0,g,c,m,delt)"
   ]
  },
  {
   "cell_type": "markdown",
   "metadata": {},
   "source": [
    "#### Creating a loop to calculate at different time steps (0sec, 2sec, 4sec etc) and print the values"
   ]
  },
  {
   "cell_type": "code",
   "execution_count": 35,
   "metadata": {},
   "outputs": [
    {
     "name": "stdout",
     "output_type": "stream",
     "text": [
      "0 0\n",
      "2 19.62\n",
      "4 32.02676470588236\n",
      "6 39.87221885813149\n",
      "8 44.833314866171385\n",
      "10 47.97047851831426\n",
      "12 49.95427318069872\n"
     ]
    }
   ],
   "source": [
    "times = [0,2,4,6,8,10,12]\n",
    "delt = 2\n",
    "velocity = [0,0,0,0,0,0,0,0]\n",
    "for time in times:\n",
    "    velocity[times.index(time)+1] = diff(velocity[times.index(time)],time,g,c,m,delt)\n",
    "    print(time, velocity[times.index(time)])"
   ]
  },
  {
   "cell_type": "markdown",
   "metadata": {},
   "source": [
    "#### Comparison of the numerical solution with the results of the analytical solution and calculating the error"
   ]
  },
  {
   "cell_type": "code",
   "execution_count": 36,
   "metadata": {},
   "outputs": [],
   "source": [
    "import numpy as np\n",
    "times = [0,2,4,6,8,10,12]\n",
    "delt = 2\n",
    "velocity = np.zeros(8)\n",
    "velocity_an = np.zeros(8)\n",
    "for time in times:\n",
    "    velocity[times.index(time)+1] = diff(velocity[times.index(time)],time,g,c,m,delt)\n",
    "    velocity_an[times.index(time)] = sym.simplify(ext_soln_const.subs(t,time)).rhs\n",
    "\n",
    "velocity_an[len(velocity_an)-1] = sym.simplify(ext_soln_const.subs(t,1000)).rhs\n",
    "abs_error = np.subtract(velocity, velocity_an)\n",
    "rel_error = np.divide(abs_error,velocity_an)*100"
   ]
  },
  {
   "cell_type": "markdown",
   "metadata": {},
   "source": [
    "#### Plotting"
   ]
  },
  {
   "cell_type": "code",
   "execution_count": 37,
   "metadata": {},
   "outputs": [
    {
     "data": {
      "text/plain": [
       "<matplotlib.legend.Legend at 0x11e90bef0>"
      ]
     },
     "execution_count": 37,
     "metadata": {},
     "output_type": "execute_result"
    },
    {
     "data": {
      "image/png": "[encoded data removed]",
      "text/plain": [
       "<Figure size 432x288 with 1 Axes>"
      ]
     },
     "metadata": {
      "needs_background": "light"
     },
     "output_type": "display_data"
    }
   ],
   "source": [
    "import matplotlib.pyplot as plt\n",
    "p2 = plt.plot(times,velocity[0:7], 'ro', label = 'Numerical') \n",
    "p3 = plt.plot(times,velocity_an[0:7], label ='Analytical')\n",
    "plt.xlabel('Time (seconds)')\n",
    "plt.ylabel('Velocity (m/s)')\n",
    "plt.legend()"
   ]
  },
  {
   "cell_type": "markdown",
   "metadata": {},
   "source": [
    "#### Create a table in Pandas with all the values"
   ]
  },
  {
   "cell_type": "code",
   "execution_count": 38,
   "metadata": {},
   "outputs": [
    {
     "data": {
      "text/html": [
       "<div>\n",
       "<style scoped>\n",
       "    .dataframe tbody tr th:only-of-type {\n",
       "        vertical-align: middle;\n",
       "    }\n",
       "\n",
       "    .dataframe tbody tr th {\n",
       "        vertical-align: top;\n",
       "    }\n",
       "\n",
       "    .dataframe thead th {\n",
       "        text-align: right;\n",
       "    }\n",
       "</style>\n",
       "<table border=\"1\" class=\"dataframe\">\n",
       "  <thead>\n",
       "    <tr style=\"text-align: right;\">\n",
       "      <th></th>\n",
       "      <th>Numerical Velocity</th>\n",
       "      <th>Analytical Velocity</th>\n",
       "      <th>Absolute Error</th>\n",
       "      <th>Relative Error</th>\n",
       "    </tr>\n",
       "  </thead>\n",
       "  <tbody>\n",
       "    <tr>\n",
       "      <th>0</th>\n",
       "      <td>0.00</td>\n",
       "      <td>0.00</td>\n",
       "      <td>-0.00</td>\n",
       "      <td>-100.00</td>\n",
       "    </tr>\n",
       "    <tr>\n",
       "      <th>1</th>\n",
       "      <td>19.62</td>\n",
       "      <td>16.42</td>\n",
       "      <td>3.20</td>\n",
       "      <td>19.51</td>\n",
       "    </tr>\n",
       "    <tr>\n",
       "      <th>2</th>\n",
       "      <td>32.03</td>\n",
       "      <td>27.78</td>\n",
       "      <td>4.24</td>\n",
       "      <td>15.27</td>\n",
       "    </tr>\n",
       "    <tr>\n",
       "      <th>3</th>\n",
       "      <td>39.87</td>\n",
       "      <td>35.65</td>\n",
       "      <td>4.22</td>\n",
       "      <td>11.83</td>\n",
       "    </tr>\n",
       "    <tr>\n",
       "      <th>4</th>\n",
       "      <td>44.83</td>\n",
       "      <td>41.10</td>\n",
       "      <td>3.73</td>\n",
       "      <td>9.07</td>\n",
       "    </tr>\n",
       "    <tr>\n",
       "      <th>5</th>\n",
       "      <td>47.97</td>\n",
       "      <td>44.88</td>\n",
       "      <td>3.09</td>\n",
       "      <td>6.90</td>\n",
       "    </tr>\n",
       "    <tr>\n",
       "      <th>6</th>\n",
       "      <td>49.95</td>\n",
       "      <td>47.49</td>\n",
       "      <td>2.47</td>\n",
       "      <td>5.19</td>\n",
       "    </tr>\n",
       "    <tr>\n",
       "      <th>7</th>\n",
       "      <td>51.21</td>\n",
       "      <td>53.37</td>\n",
       "      <td>-2.16</td>\n",
       "      <td>-4.04</td>\n",
       "    </tr>\n",
       "  </tbody>\n",
       "</table>\n",
       "</div>"
      ],
      "text/plain": [
       "   Numerical Velocity  Analytical Velocity  Absolute Error  Relative Error\n",
       "0                0.00                 0.00           -0.00         -100.00\n",
       "1               19.62                16.42            3.20           19.51\n",
       "2               32.03                27.78            4.24           15.27\n",
       "3               39.87                35.65            4.22           11.83\n",
       "4               44.83                41.10            3.73            9.07\n",
       "5               47.97                44.88            3.09            6.90\n",
       "6               49.95                47.49            2.47            5.19\n",
       "7               51.21                53.37           -2.16           -4.04"
      ]
     },
     "execution_count": 38,
     "metadata": {},
     "output_type": "execute_result"
    }
   ],
   "source": [
    "import pandas as pd\n",
    "df = pd.DataFrame({'Numerical Velocity': np.round(velocity,2), 'Analytical Velocity': np.round(velocity_an,2), \n",
    "                   'Absolute Error':np.round(abs_error,2), 'Relative Error':np.round(rel_error,2)})\n",
    "df"
   ]
  },
  {
   "cell_type": "markdown",
   "metadata": {},
   "source": [
    "### Approximation and Error\n",
    "It can be seen that for the time step of 2 seconds, the numerical model underestimates the analytical value by upwards of 20% that becomes lower as the time increases. However, we can use more computational time to make a more accurate estimate."
   ]
  },
  {
   "cell_type": "code",
   "execution_count": 39,
   "metadata": {},
   "outputs": [],
   "source": [
    "def diff(g,c,m,vi,t_1,ti):\n",
    "    v_1 = vi+(g-(c/m)*vi)*(t_1-ti)\n",
    "    return v_1"
   ]
  },
  {
   "cell_type": "markdown",
   "metadata": {},
   "source": [
    "#### Create a function that can be used to solve iteratively (needs to be a function so that the timer can work"
   ]
  },
  {
   "cell_type": "code",
   "execution_count": 40,
   "metadata": {},
   "outputs": [],
   "source": [
    "def solver(delta_value,ti,vi,vels,tims):\n",
    "    t_1 = ti+delta_value\n",
    "    while ti<=12.0:\n",
    "        v_1 = diff(g,c,m,vi,t_1,ti)\n",
    "        vi = v_1\n",
    "        ti = t_1\n",
    "        vels = np.append(vels,v_1)\n",
    "        tims = np.append(tims,t_1)\n",
    "        t_1 = ti+delta_value  \n",
    "    return vels,tims"
   ]
  },
  {
   "cell_type": "markdown",
   "metadata": {},
   "source": [
    "#### Initiate variables"
   ]
  },
  {
   "cell_type": "code",
   "execution_count": 72,
   "metadata": {},
   "outputs": [],
   "source": [
    "vi = 0.\n",
    "ti = 0.\n",
    "vels = np.zeros(1)\n",
    "tims = np.zeros(1)\n",
    "vels = np.append(vels,vi)\n",
    "tims = np.append(tims,ti)\n",
    "delta_val = 0.001 #this is the time step value"
   ]
  },
  {
   "cell_type": "markdown",
   "metadata": {},
   "source": [
    "#### Create Timer to measure the computational time"
   ]
  },
  {
   "cell_type": "code",
   "execution_count": 73,
   "metadata": {},
   "outputs": [
    {
     "name": "stdout",
     "output_type": "stream",
     "text": [
      "CPU times: user 162 ms, sys: 13.6 ms, total: 175 ms\n",
      "Wall time: 169 ms\n"
     ]
    }
   ],
   "source": [
    "%time vels,tims = solver(delta_val,ti,vi,vels,tims)"
   ]
  },
  {
   "cell_type": "markdown",
   "metadata": {},
   "source": [
    "#### Create dataframe of calculated values and round the results to 4 significant digits"
   ]
  },
  {
   "cell_type": "code",
   "execution_count": 74,
   "metadata": {},
   "outputs": [],
   "source": [
    "df = pd.DataFrame({'Velocity':vels,'Time':tims})\n",
    "df = df.round(4)"
   ]
  },
  {
   "cell_type": "markdown",
   "metadata": {},
   "source": [
    "#### Identify value of velocity at 2 seconds for comparison"
   ]
  },
  {
   "cell_type": "code",
   "execution_count": 75,
   "metadata": {},
   "outputs": [],
   "source": [
    "VV = df.loc[df['Time'] == 2]['Velocity']"
   ]
  },
  {
   "cell_type": "markdown",
   "metadata": {},
   "source": [
    "#### Calculate percent error between numerical value and analytical value at 2 seconds"
   ]
  },
  {
   "cell_type": "code",
   "execution_count": 76,
   "metadata": {},
   "outputs": [
    {
     "data": {
      "text/plain": [
       "2001    0.00755795165219926\n",
       "Name: Velocity, dtype: object"
      ]
     },
     "execution_count": 76,
     "metadata": {},
     "output_type": "execute_result"
    }
   ],
   "source": [
    "((VV)-sym.simplify(ext_soln_const.subs(t,2.0)).rhs)/sym.simplify(ext_soln_const.subs(t,2.0)).rhs*100"
   ]
  },
  {
   "cell_type": "markdown",
   "metadata": {},
   "source": [
    "#### Create plot of error vs. time step"
   ]
  },
  {
   "cell_type": "code",
   "execution_count": 77,
   "metadata": {},
   "outputs": [
    {
     "data": {
      "text/plain": [
       "Text(0, 0.5, 'Error')"
      ]
     },
     "execution_count": 77,
     "metadata": {},
     "output_type": "execute_result"
    },
    {
     "data": {
      "image/png": "[encoded data removed]",
      "text/plain": [
       "<Figure size 432x288 with 1 Axes>"
      ]
     },
     "metadata": {
      "needs_background": "light"
     },
     "output_type": "display_data"
    }
   ],
   "source": [
    "dt = [1.]\n",
    "err = [8.522]\n",
    "t_cpu = [4.05E-6]\n",
    "df2 = pd.DataFrame({'Time_Step':dt,'Error':err,'CPU_Time':t_cpu})\n",
    "\n",
    "plt.plot(df2.Time_Step,df2.Error)\n",
    "plt.xlabel('Time Step')\n",
    "plt.ylabel('Error')"
   ]
  },
  {
   "cell_type": "markdown",
   "metadata": {},
   "source": [
    "#### Create plot of error vs. computational time"
   ]
  },
  {
   "cell_type": "code",
   "execution_count": 78,
   "metadata": {},
   "outputs": [
    {
     "data": {
      "text/plain": [
       "Text(0, 0.5, 'CPU Time')"
      ]
     },
     "execution_count": 78,
     "metadata": {},
     "output_type": "execute_result"
    },
    {
     "data": {
      "image/png": "[encoded data removed]",
      "text/plain": [
       "<Figure size 432x288 with 1 Axes>"
      ]
     },
     "metadata": {
      "needs_background": "light"
     },
     "output_type": "display_data"
    }
   ],
   "source": [
    "plt.plot(df2.Time_Step,df2.CPU_Time)\n",
    "plt.xlabel('Time Step')\n",
    "plt.ylabel('CPU Time')"
   ]
  },
  {
   "cell_type": "code",
   "execution_count": null,
   "metadata": {},
   "outputs": [],
   "source": []
  }
 ],
 "metadata": {
  "kernelspec": {
   "display_name": "Python 3",
   "language": "python",
   "name": "python3"
  },
  "language_info": {
   "codemirror_mode": {
    "name": "ipython",
    "version": 3
   },
   "file_extension": ".py",
   "mimetype": "text/x-python",
   "name": "python",
   "nbconvert_exporter": "python",
   "pygments_lexer": "ipython3",
   "version": "3.7.1"
  }
 },
 "nbformat": 4,
 "nbformat_minor": 4
}
