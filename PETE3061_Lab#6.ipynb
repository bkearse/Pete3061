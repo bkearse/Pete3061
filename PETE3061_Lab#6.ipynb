{
 "cells": [
  {
   "cell_type": "markdown",
   "metadata": {},
   "source": [
    "# ODE Boundary Value Problems"
   ]
  },
  {
   "cell_type": "markdown",
   "metadata": {},
   "source": [
    "# The Shooting Method"
   ]
  },
  {
   "cell_type": "markdown",
   "metadata": {},
   "source": [
    "The shooting method solves boundary value problems (BVP) using initial value problem (IVP) solution methods and an initial guess of the derivative at the initial value of one side. This process then solves over to the other boundary value. The newly calculated boundary value is then checked against the desired boundary value. A second initial guess of the derivative is tried and a second solution over to the boundary value is performed. These values are then used to create a linear interpolation to find the desired value.\n",
    "\n",
    "## General formulation\n",
    "\n",
    "### Boundary Value Problem\n",
    "\n",
    "$$\\frac{d^2y}{dx^2}=f(x,y,\\frac{dy}{dx})$$\n",
    "\n",
    "$$y(a)=y_a, \\space \\space \\space \\space y(b)=y_b$$\n",
    "\n",
    "### Equavalent Initial Value Problem\n",
    "\n",
    "$$y(a)=y_a, \\space \\space \\space \\space y'(a)=Y_a$$\n",
    "\n",
    "where the value of $Y_a$ is a guess. This guess is used to solve for $y(b)=p$ where $p$ is the boundary calculated with the guess value. If $p$ is equal to $y_b$ then the calculation would end. However this is improbable. Therefore we would make a second guess we will call $Z_a$, so setting $y'(a)=Z_a$ we will solve and find a second value of $y(b)$ we will call $q$, therefore $y(b)=q$.\n",
    "\n",
    "These calculated values of $p$ and $q$ can be used to solve for the actual value of $y'(a)$ to satisfy $y(b)=y_b$ with linear interpolation. This interpolated value of $y'(a)$ is then used to solve the problem."
   ]
  },
  {
   "cell_type": "markdown",
   "metadata": {},
   "source": [
    "## Example\n",
    "\n",
    "$$\\frac{d^2y}{dx^2}-2y=8x(9-x)$$\n",
    "\n",
    "$$y(0)=0, \\space \\space \\space \\space y(9)=0$$\n",
    "\n",
    "### Rearrange\n",
    "\n",
    "$$\\frac{d^2y}{dx^2}=2y+8x(9-x)$$\n",
    "\n",
    "### Redefine as two first order ODEs\n",
    "\n",
    "$$\\frac{dy}{dx}=z=f_1(x,y,z)$$\n",
    "\n",
    "$$\\frac{dz}{dx}=2y+8x(9-x)=f_2(x,y,z)$$\n",
    "\n",
    "$$y(0)=0$$\n",
    "\n",
    "### Create an initial guess at derivative at $x=0$.\n",
    "\n",
    "$$z(0)=\\frac{dy}{dx}=4 \\space \\space (guess)$$ "
   ]
  },
  {
   "cell_type": "markdown",
   "metadata": {},
   "source": [
    "### Create functions"
   ]
  },
  {
   "cell_type": "code",
   "execution_count": 59,
   "metadata": {},
   "outputs": [],
   "source": [
    "def f1(x,y,z): return z\n",
    "def f2(x,y,z): return 2*y+8*x*(9-x)"
   ]
  },
  {
   "cell_type": "markdown",
   "metadata": {},
   "source": [
    "### Define initial conditions and step size"
   ]
  },
  {
   "cell_type": "code",
   "execution_count": 60,
   "metadata": {},
   "outputs": [
    {
     "data": {
      "text/html": [
       "<div>\n",
       "<style scoped>\n",
       "    .dataframe tbody tr th:only-of-type {\n",
       "        vertical-align: middle;\n",
       "    }\n",
       "\n",
       "    .dataframe tbody tr th {\n",
       "        vertical-align: top;\n",
       "    }\n",
       "\n",
       "    .dataframe thead th {\n",
       "        text-align: right;\n",
       "    }\n",
       "</style>\n",
       "<table border=\"1\" class=\"dataframe\">\n",
       "  <thead>\n",
       "    <tr style=\"text-align: right;\">\n",
       "      <th></th>\n",
       "      <th>x</th>\n",
       "      <th>y</th>\n",
       "      <th>z</th>\n",
       "    </tr>\n",
       "  </thead>\n",
       "  <tbody>\n",
       "    <tr>\n",
       "      <th>0</th>\n",
       "      <td>0</td>\n",
       "      <td>0</td>\n",
       "      <td>4</td>\n",
       "    </tr>\n",
       "  </tbody>\n",
       "</table>\n",
       "</div>"
      ],
      "text/plain": [
       "   x  y  z\n",
       "0  0  0  4"
      ]
     },
     "execution_count": 60,
     "metadata": {},
     "output_type": "execute_result"
    }
   ],
   "source": [
    "x0 = 0\n",
    "y0 = 0\n",
    "z0 = 4 #Y_a which is a guess value\n",
    "Y_a = z0\n",
    "h = 3       #This is defined by the user\n",
    "import pandas as pd\n",
    "df = pd.DataFrame({'x':[x0],'y':[y0],'z':z0})\n",
    "df"
   ]
  },
  {
   "cell_type": "markdown",
   "metadata": {},
   "source": [
    "### Perform first step calculation\n",
    "\n",
    "$$x_1=x_0+h$$\n",
    "\n",
    "$$y_1=y_0+f_1(x_0,y_0,z_0)h$$\n",
    "\n",
    "$$z_1=z_0+f_2(x_0,y_0,z_0)h$$\n"
   ]
  },
  {
   "cell_type": "code",
   "execution_count": 61,
   "metadata": {},
   "outputs": [
    {
     "data": {
      "text/html": [
       "<div>\n",
       "<style scoped>\n",
       "    .dataframe tbody tr th:only-of-type {\n",
       "        vertical-align: middle;\n",
       "    }\n",
       "\n",
       "    .dataframe tbody tr th {\n",
       "        vertical-align: top;\n",
       "    }\n",
       "\n",
       "    .dataframe thead th {\n",
       "        text-align: right;\n",
       "    }\n",
       "</style>\n",
       "<table border=\"1\" class=\"dataframe\">\n",
       "  <thead>\n",
       "    <tr style=\"text-align: right;\">\n",
       "      <th></th>\n",
       "      <th>x</th>\n",
       "      <th>y</th>\n",
       "      <th>z</th>\n",
       "    </tr>\n",
       "  </thead>\n",
       "  <tbody>\n",
       "    <tr>\n",
       "      <th>0</th>\n",
       "      <td>0</td>\n",
       "      <td>0</td>\n",
       "      <td>4</td>\n",
       "    </tr>\n",
       "    <tr>\n",
       "      <th>1</th>\n",
       "      <td>3</td>\n",
       "      <td>12</td>\n",
       "      <td>4</td>\n",
       "    </tr>\n",
       "  </tbody>\n",
       "</table>\n",
       "</div>"
      ],
      "text/plain": [
       "   x   y  z\n",
       "0  0   0  4\n",
       "1  3  12  4"
      ]
     },
     "execution_count": 61,
     "metadata": {},
     "output_type": "execute_result"
    }
   ],
   "source": [
    "x1 = x0+h\n",
    "y1 = y0+f1(x0,y0,z0)*h\n",
    "z1 = z0+f2(x0,y0,z0)*h\n",
    "\n",
    "df = df.append({'x':x1,'y':y1,'z':z1},ignore_index=True)\n",
    "df"
   ]
  },
  {
   "cell_type": "code",
   "execution_count": 62,
   "metadata": {},
   "outputs": [
    {
     "data": {
      "text/html": [
       "<div>\n",
       "<style scoped>\n",
       "    .dataframe tbody tr th:only-of-type {\n",
       "        vertical-align: middle;\n",
       "    }\n",
       "\n",
       "    .dataframe tbody tr th {\n",
       "        vertical-align: top;\n",
       "    }\n",
       "\n",
       "    .dataframe thead th {\n",
       "        text-align: right;\n",
       "    }\n",
       "</style>\n",
       "<table border=\"1\" class=\"dataframe\">\n",
       "  <thead>\n",
       "    <tr style=\"text-align: right;\">\n",
       "      <th></th>\n",
       "      <th>x</th>\n",
       "      <th>y</th>\n",
       "      <th>z</th>\n",
       "    </tr>\n",
       "  </thead>\n",
       "  <tbody>\n",
       "    <tr>\n",
       "      <th>0</th>\n",
       "      <td>0</td>\n",
       "      <td>0</td>\n",
       "      <td>4</td>\n",
       "    </tr>\n",
       "    <tr>\n",
       "      <th>1</th>\n",
       "      <td>3</td>\n",
       "      <td>12</td>\n",
       "      <td>4</td>\n",
       "    </tr>\n",
       "    <tr>\n",
       "      <th>2</th>\n",
       "      <td>6</td>\n",
       "      <td>24</td>\n",
       "      <td>508</td>\n",
       "    </tr>\n",
       "  </tbody>\n",
       "</table>\n",
       "</div>"
      ],
      "text/plain": [
       "   x   y    z\n",
       "0  0   0    4\n",
       "1  3  12    4\n",
       "2  6  24  508"
      ]
     },
     "execution_count": 62,
     "metadata": {},
     "output_type": "execute_result"
    }
   ],
   "source": [
    "x2 = x1+h\n",
    "y2 = y1+f1(x1,y1,z1)*h\n",
    "z2 = z1+f2(x1,y1,z1)*h\n",
    "df = df.append({'x':x2,'y':y2,'z':z2},ignore_index=True)\n",
    "df"
   ]
  },
  {
   "cell_type": "code",
   "execution_count": 63,
   "metadata": {},
   "outputs": [
    {
     "data": {
      "text/html": [
       "<div>\n",
       "<style scoped>\n",
       "    .dataframe tbody tr th:only-of-type {\n",
       "        vertical-align: middle;\n",
       "    }\n",
       "\n",
       "    .dataframe tbody tr th {\n",
       "        vertical-align: top;\n",
       "    }\n",
       "\n",
       "    .dataframe thead th {\n",
       "        text-align: right;\n",
       "    }\n",
       "</style>\n",
       "<table border=\"1\" class=\"dataframe\">\n",
       "  <thead>\n",
       "    <tr style=\"text-align: right;\">\n",
       "      <th></th>\n",
       "      <th>x</th>\n",
       "      <th>y</th>\n",
       "      <th>z</th>\n",
       "    </tr>\n",
       "  </thead>\n",
       "  <tbody>\n",
       "    <tr>\n",
       "      <th>0</th>\n",
       "      <td>0</td>\n",
       "      <td>0</td>\n",
       "      <td>4</td>\n",
       "    </tr>\n",
       "    <tr>\n",
       "      <th>1</th>\n",
       "      <td>3</td>\n",
       "      <td>12</td>\n",
       "      <td>4</td>\n",
       "    </tr>\n",
       "    <tr>\n",
       "      <th>2</th>\n",
       "      <td>6</td>\n",
       "      <td>24</td>\n",
       "      <td>508</td>\n",
       "    </tr>\n",
       "    <tr>\n",
       "      <th>3</th>\n",
       "      <td>9</td>\n",
       "      <td>1548</td>\n",
       "      <td>1084</td>\n",
       "    </tr>\n",
       "  </tbody>\n",
       "</table>\n",
       "</div>"
      ],
      "text/plain": [
       "   x     y     z\n",
       "0  0     0     4\n",
       "1  3    12     4\n",
       "2  6    24   508\n",
       "3  9  1548  1084"
      ]
     },
     "execution_count": 63,
     "metadata": {},
     "output_type": "execute_result"
    }
   ],
   "source": [
    "x3 = x2+h\n",
    "y3 = y2+f1(x2,y2,z2)*h\n",
    "z3 = z2+f2(x2,y2,z2)*h\n",
    "p = y3\n",
    "df = df.append({'x':x3,'y':y3,'z':z3},ignore_index=True)\n",
    "df"
   ]
  },
  {
   "cell_type": "markdown",
   "metadata": {},
   "source": [
    "### Initial results\n",
    "At $x=9$, $y(9)=1548=p$ which is not $y(9)=0$. Therefore create a second guess of the derivative, let $z_0=-24$."
   ]
  },
  {
   "cell_type": "code",
   "execution_count": 64,
   "metadata": {},
   "outputs": [
    {
     "data": {
      "text/html": [
       "<div>\n",
       "<style scoped>\n",
       "    .dataframe tbody tr th:only-of-type {\n",
       "        vertical-align: middle;\n",
       "    }\n",
       "\n",
       "    .dataframe tbody tr th {\n",
       "        vertical-align: top;\n",
       "    }\n",
       "\n",
       "    .dataframe thead th {\n",
       "        text-align: right;\n",
       "    }\n",
       "</style>\n",
       "<table border=\"1\" class=\"dataframe\">\n",
       "  <thead>\n",
       "    <tr style=\"text-align: right;\">\n",
       "      <th></th>\n",
       "      <th>x</th>\n",
       "      <th>y</th>\n",
       "      <th>z</th>\n",
       "    </tr>\n",
       "  </thead>\n",
       "  <tbody>\n",
       "    <tr>\n",
       "      <th>0</th>\n",
       "      <td>0</td>\n",
       "      <td>0</td>\n",
       "      <td>-24</td>\n",
       "    </tr>\n",
       "  </tbody>\n",
       "</table>\n",
       "</div>"
      ],
      "text/plain": [
       "   x  y   z\n",
       "0  0  0 -24"
      ]
     },
     "execution_count": 64,
     "metadata": {},
     "output_type": "execute_result"
    }
   ],
   "source": [
    "x0 = 0\n",
    "y0 = 0\n",
    "z0 = -24 #Z_a\n",
    "Z_a = z0\n",
    "h = 3       #This is defined by the user\n",
    "df = pd.DataFrame({'x':[x0],'y':[y0],'z':z0})\n",
    "df"
   ]
  },
  {
   "cell_type": "code",
   "execution_count": 65,
   "metadata": {},
   "outputs": [
    {
     "data": {
      "text/html": [
       "<div>\n",
       "<style scoped>\n",
       "    .dataframe tbody tr th:only-of-type {\n",
       "        vertical-align: middle;\n",
       "    }\n",
       "\n",
       "    .dataframe tbody tr th {\n",
       "        vertical-align: top;\n",
       "    }\n",
       "\n",
       "    .dataframe thead th {\n",
       "        text-align: right;\n",
       "    }\n",
       "</style>\n",
       "<table border=\"1\" class=\"dataframe\">\n",
       "  <thead>\n",
       "    <tr style=\"text-align: right;\">\n",
       "      <th></th>\n",
       "      <th>x</th>\n",
       "      <th>y</th>\n",
       "      <th>z</th>\n",
       "    </tr>\n",
       "  </thead>\n",
       "  <tbody>\n",
       "    <tr>\n",
       "      <th>0</th>\n",
       "      <td>0</td>\n",
       "      <td>0</td>\n",
       "      <td>-24</td>\n",
       "    </tr>\n",
       "    <tr>\n",
       "      <th>1</th>\n",
       "      <td>3</td>\n",
       "      <td>-72</td>\n",
       "      <td>-24</td>\n",
       "    </tr>\n",
       "  </tbody>\n",
       "</table>\n",
       "</div>"
      ],
      "text/plain": [
       "   x   y   z\n",
       "0  0   0 -24\n",
       "1  3 -72 -24"
      ]
     },
     "execution_count": 65,
     "metadata": {},
     "output_type": "execute_result"
    }
   ],
   "source": [
    "x1 = x0+h\n",
    "y1 = y0+f1(x0,y0,z0)*h\n",
    "z1 = z0+f2(x0,y0,z0)*h\n",
    "df = df.append({'x':x1,'y':y1,'z':z1},ignore_index=True)\n",
    "df"
   ]
  },
  {
   "cell_type": "code",
   "execution_count": 66,
   "metadata": {},
   "outputs": [
    {
     "data": {
      "text/html": [
       "<div>\n",
       "<style scoped>\n",
       "    .dataframe tbody tr th:only-of-type {\n",
       "        vertical-align: middle;\n",
       "    }\n",
       "\n",
       "    .dataframe tbody tr th {\n",
       "        vertical-align: top;\n",
       "    }\n",
       "\n",
       "    .dataframe thead th {\n",
       "        text-align: right;\n",
       "    }\n",
       "</style>\n",
       "<table border=\"1\" class=\"dataframe\">\n",
       "  <thead>\n",
       "    <tr style=\"text-align: right;\">\n",
       "      <th></th>\n",
       "      <th>x</th>\n",
       "      <th>y</th>\n",
       "      <th>z</th>\n",
       "    </tr>\n",
       "  </thead>\n",
       "  <tbody>\n",
       "    <tr>\n",
       "      <th>0</th>\n",
       "      <td>0</td>\n",
       "      <td>0</td>\n",
       "      <td>-24</td>\n",
       "    </tr>\n",
       "    <tr>\n",
       "      <th>1</th>\n",
       "      <td>3</td>\n",
       "      <td>-72</td>\n",
       "      <td>-24</td>\n",
       "    </tr>\n",
       "    <tr>\n",
       "      <th>2</th>\n",
       "      <td>6</td>\n",
       "      <td>-144</td>\n",
       "      <td>-24</td>\n",
       "    </tr>\n",
       "  </tbody>\n",
       "</table>\n",
       "</div>"
      ],
      "text/plain": [
       "   x    y   z\n",
       "0  0    0 -24\n",
       "1  3  -72 -24\n",
       "2  6 -144 -24"
      ]
     },
     "execution_count": 66,
     "metadata": {},
     "output_type": "execute_result"
    }
   ],
   "source": [
    "x2 = x1+h\n",
    "y2 = y1+f1(x1,y1,z1)*h\n",
    "z2 = z1+f2(x1,y1,z1)*h\n",
    "df = df.append({'x':x2,'y':y2,'z':z2},ignore_index=True)\n",
    "df"
   ]
  },
  {
   "cell_type": "code",
   "execution_count": 67,
   "metadata": {},
   "outputs": [
    {
     "data": {
      "text/html": [
       "<div>\n",
       "<style scoped>\n",
       "    .dataframe tbody tr th:only-of-type {\n",
       "        vertical-align: middle;\n",
       "    }\n",
       "\n",
       "    .dataframe tbody tr th {\n",
       "        vertical-align: top;\n",
       "    }\n",
       "\n",
       "    .dataframe thead th {\n",
       "        text-align: right;\n",
       "    }\n",
       "</style>\n",
       "<table border=\"1\" class=\"dataframe\">\n",
       "  <thead>\n",
       "    <tr style=\"text-align: right;\">\n",
       "      <th></th>\n",
       "      <th>x</th>\n",
       "      <th>y</th>\n",
       "      <th>z</th>\n",
       "    </tr>\n",
       "  </thead>\n",
       "  <tbody>\n",
       "    <tr>\n",
       "      <th>0</th>\n",
       "      <td>0</td>\n",
       "      <td>0</td>\n",
       "      <td>-24</td>\n",
       "    </tr>\n",
       "    <tr>\n",
       "      <th>1</th>\n",
       "      <td>3</td>\n",
       "      <td>-72</td>\n",
       "      <td>-24</td>\n",
       "    </tr>\n",
       "    <tr>\n",
       "      <th>2</th>\n",
       "      <td>6</td>\n",
       "      <td>-144</td>\n",
       "      <td>-24</td>\n",
       "    </tr>\n",
       "    <tr>\n",
       "      <th>3</th>\n",
       "      <td>9</td>\n",
       "      <td>-216</td>\n",
       "      <td>-456</td>\n",
       "    </tr>\n",
       "  </tbody>\n",
       "</table>\n",
       "</div>"
      ],
      "text/plain": [
       "   x    y    z\n",
       "0  0    0  -24\n",
       "1  3  -72  -24\n",
       "2  6 -144  -24\n",
       "3  9 -216 -456"
      ]
     },
     "execution_count": 67,
     "metadata": {},
     "output_type": "execute_result"
    }
   ],
   "source": [
    "x3 = x2+h\n",
    "y3 = y2+f1(x2,y2,z2)*h\n",
    "z3 = z2+f2(x2,y2,z2)*h\n",
    "q = y3\n",
    "df = df.append({'x':x3,'y':y3,'z':z3},ignore_index=True)\n",
    "df"
   ]
  },
  {
   "cell_type": "markdown",
   "metadata": {},
   "source": [
    "### Second guess results\n",
    "At $x=9$, $y(9)=-216=q$ which is not $y(9)=0$. Therefore perform an interpolation to find the actual value of the derivative."
   ]
  },
  {
   "cell_type": "markdown",
   "metadata": {},
   "source": [
    "### Interpolation\n",
    "\n",
    "$$y'(a) = Y_a+\\frac{Y_a-Z_a}{p-q}(p_{des}-p)$$"
   ]
  },
  {
   "cell_type": "code",
   "execution_count": 68,
   "metadata": {},
   "outputs": [
    {
     "data": {
      "text/plain": [
       "-20.57142857142857"
      ]
     },
     "execution_count": 68,
     "metadata": {},
     "output_type": "execute_result"
    }
   ],
   "source": [
    "pdes = 0\n",
    "\n",
    "yprime = Y_a+((Y_a-Z_a)/(p-q))*(pdes-p)\n",
    "yprime"
   ]
  },
  {
   "cell_type": "code",
   "execution_count": 69,
   "metadata": {},
   "outputs": [
    {
     "data": {
      "text/html": [
       "<div>\n",
       "<style scoped>\n",
       "    .dataframe tbody tr th:only-of-type {\n",
       "        vertical-align: middle;\n",
       "    }\n",
       "\n",
       "    .dataframe tbody tr th {\n",
       "        vertical-align: top;\n",
       "    }\n",
       "\n",
       "    .dataframe thead th {\n",
       "        text-align: right;\n",
       "    }\n",
       "</style>\n",
       "<table border=\"1\" class=\"dataframe\">\n",
       "  <thead>\n",
       "    <tr style=\"text-align: right;\">\n",
       "      <th></th>\n",
       "      <th>x</th>\n",
       "      <th>y</th>\n",
       "      <th>z</th>\n",
       "    </tr>\n",
       "  </thead>\n",
       "  <tbody>\n",
       "    <tr>\n",
       "      <th>0</th>\n",
       "      <td>0</td>\n",
       "      <td>0</td>\n",
       "      <td>-20.571429</td>\n",
       "    </tr>\n",
       "  </tbody>\n",
       "</table>\n",
       "</div>"
      ],
      "text/plain": [
       "   x  y          z\n",
       "0  0  0 -20.571429"
      ]
     },
     "execution_count": 69,
     "metadata": {},
     "output_type": "execute_result"
    }
   ],
   "source": [
    "x0 = 0\n",
    "y0 = 0\n",
    "z0 = yprime\n",
    "Z_a = z0\n",
    "h = 3       #This is defined by the user\n",
    "df = pd.DataFrame({'x':[x0],'y':[y0],'z':z0})\n",
    "df"
   ]
  },
  {
   "cell_type": "code",
   "execution_count": 70,
   "metadata": {},
   "outputs": [
    {
     "data": {
      "text/html": [
       "<div>\n",
       "<style scoped>\n",
       "    .dataframe tbody tr th:only-of-type {\n",
       "        vertical-align: middle;\n",
       "    }\n",
       "\n",
       "    .dataframe tbody tr th {\n",
       "        vertical-align: top;\n",
       "    }\n",
       "\n",
       "    .dataframe thead th {\n",
       "        text-align: right;\n",
       "    }\n",
       "</style>\n",
       "<table border=\"1\" class=\"dataframe\">\n",
       "  <thead>\n",
       "    <tr style=\"text-align: right;\">\n",
       "      <th></th>\n",
       "      <th>x</th>\n",
       "      <th>y</th>\n",
       "      <th>z</th>\n",
       "    </tr>\n",
       "  </thead>\n",
       "  <tbody>\n",
       "    <tr>\n",
       "      <th>0</th>\n",
       "      <td>0.0</td>\n",
       "      <td>0.000000</td>\n",
       "      <td>-20.571429</td>\n",
       "    </tr>\n",
       "    <tr>\n",
       "      <th>1</th>\n",
       "      <td>3.0</td>\n",
       "      <td>-61.714286</td>\n",
       "      <td>-20.571429</td>\n",
       "    </tr>\n",
       "  </tbody>\n",
       "</table>\n",
       "</div>"
      ],
      "text/plain": [
       "     x          y          z\n",
       "0  0.0   0.000000 -20.571429\n",
       "1  3.0 -61.714286 -20.571429"
      ]
     },
     "execution_count": 70,
     "metadata": {},
     "output_type": "execute_result"
    }
   ],
   "source": [
    "x1 = x0+h\n",
    "y1 = y0+f1(x0,y0,z0)*h\n",
    "z1 = z0+f2(x0,y0,z0)*h\n",
    "df = df.append({'x':x1,'y':y1,'z':z1},ignore_index=True)\n",
    "df"
   ]
  },
  {
   "cell_type": "code",
   "execution_count": 71,
   "metadata": {},
   "outputs": [
    {
     "data": {
      "text/html": [
       "<div>\n",
       "<style scoped>\n",
       "    .dataframe tbody tr th:only-of-type {\n",
       "        vertical-align: middle;\n",
       "    }\n",
       "\n",
       "    .dataframe tbody tr th {\n",
       "        vertical-align: top;\n",
       "    }\n",
       "\n",
       "    .dataframe thead th {\n",
       "        text-align: right;\n",
       "    }\n",
       "</style>\n",
       "<table border=\"1\" class=\"dataframe\">\n",
       "  <thead>\n",
       "    <tr style=\"text-align: right;\">\n",
       "      <th></th>\n",
       "      <th>x</th>\n",
       "      <th>y</th>\n",
       "      <th>z</th>\n",
       "    </tr>\n",
       "  </thead>\n",
       "  <tbody>\n",
       "    <tr>\n",
       "      <th>0</th>\n",
       "      <td>0.0</td>\n",
       "      <td>0.000000</td>\n",
       "      <td>-20.571429</td>\n",
       "    </tr>\n",
       "    <tr>\n",
       "      <th>1</th>\n",
       "      <td>3.0</td>\n",
       "      <td>-61.714286</td>\n",
       "      <td>-20.571429</td>\n",
       "    </tr>\n",
       "    <tr>\n",
       "      <th>2</th>\n",
       "      <td>6.0</td>\n",
       "      <td>-123.428571</td>\n",
       "      <td>41.142857</td>\n",
       "    </tr>\n",
       "  </tbody>\n",
       "</table>\n",
       "</div>"
      ],
      "text/plain": [
       "     x           y          z\n",
       "0  0.0    0.000000 -20.571429\n",
       "1  3.0  -61.714286 -20.571429\n",
       "2  6.0 -123.428571  41.142857"
      ]
     },
     "execution_count": 71,
     "metadata": {},
     "output_type": "execute_result"
    }
   ],
   "source": [
    "x2 = x1+h\n",
    "y2 = y1+f1(x1,y1,z1)*h\n",
    "z2 = z1+f2(x1,y1,z1)*h\n",
    "df = df.append({'x':x2,'y':y2,'z':z2},ignore_index=True)\n",
    "df"
   ]
  },
  {
   "cell_type": "code",
   "execution_count": 72,
   "metadata": {},
   "outputs": [
    {
     "data": {
      "text/html": [
       "<div>\n",
       "<style scoped>\n",
       "    .dataframe tbody tr th:only-of-type {\n",
       "        vertical-align: middle;\n",
       "    }\n",
       "\n",
       "    .dataframe tbody tr th {\n",
       "        vertical-align: top;\n",
       "    }\n",
       "\n",
       "    .dataframe thead th {\n",
       "        text-align: right;\n",
       "    }\n",
       "</style>\n",
       "<table border=\"1\" class=\"dataframe\">\n",
       "  <thead>\n",
       "    <tr style=\"text-align: right;\">\n",
       "      <th></th>\n",
       "      <th>x</th>\n",
       "      <th>y</th>\n",
       "      <th>z</th>\n",
       "    </tr>\n",
       "  </thead>\n",
       "  <tbody>\n",
       "    <tr>\n",
       "      <th>0</th>\n",
       "      <td>0.0</td>\n",
       "      <td>0.000000e+00</td>\n",
       "      <td>-20.571429</td>\n",
       "    </tr>\n",
       "    <tr>\n",
       "      <th>1</th>\n",
       "      <td>3.0</td>\n",
       "      <td>-6.171429e+01</td>\n",
       "      <td>-20.571429</td>\n",
       "    </tr>\n",
       "    <tr>\n",
       "      <th>2</th>\n",
       "      <td>6.0</td>\n",
       "      <td>-1.234286e+02</td>\n",
       "      <td>41.142857</td>\n",
       "    </tr>\n",
       "    <tr>\n",
       "      <th>3</th>\n",
       "      <td>9.0</td>\n",
       "      <td>1.278977e-13</td>\n",
       "      <td>-267.428571</td>\n",
       "    </tr>\n",
       "  </tbody>\n",
       "</table>\n",
       "</div>"
      ],
      "text/plain": [
       "     x             y           z\n",
       "0  0.0  0.000000e+00  -20.571429\n",
       "1  3.0 -6.171429e+01  -20.571429\n",
       "2  6.0 -1.234286e+02   41.142857\n",
       "3  9.0  1.278977e-13 -267.428571"
      ]
     },
     "execution_count": 72,
     "metadata": {},
     "output_type": "execute_result"
    }
   ],
   "source": [
    "x3 = x2+h\n",
    "y3 = y2+f1(x2,y2,z2)*h\n",
    "z3 = z2+f2(x2,y2,z2)*h\n",
    "q = y3\n",
    "df = df.append({'x':x3,'y':y3,'z':z3},ignore_index=True)\n",
    "df"
   ]
  },
  {
   "cell_type": "markdown",
   "metadata": {},
   "source": [
    "### Results\n",
    "It can be seen that $y(9)=0$ or sufficiently close. Therefore the equation is solved."
   ]
  },
  {
   "cell_type": "code",
   "execution_count": null,
   "metadata": {},
   "outputs": [],
   "source": []
  },
  {
   "cell_type": "markdown",
   "metadata": {},
   "source": [
    "## Example using solve_bvp function\n",
    "\n",
    "## $$ y''+ke^y=0$$\n",
    "\n",
    "## $$y(0)=y(1)=0$$\n",
    "\n",
    "Assume $k=1$.\n",
    "\n",
    "First we need to rewrite the equation as a system of two first order equations.\n",
    "\n",
    "## $$y_1'=y_2 $$\n",
    "\n",
    "## $$y_2'=-e^{y_1}$$"
   ]
  },
  {
   "cell_type": "markdown",
   "metadata": {},
   "source": [
    "### Define the function"
   ]
  },
  {
   "cell_type": "code",
   "execution_count": 73,
   "metadata": {},
   "outputs": [],
   "source": [
    "import numpy as np"
   ]
  },
  {
   "cell_type": "code",
   "execution_count": 74,
   "metadata": {},
   "outputs": [],
   "source": [
    "def fun(x,y):\n",
    "    return np.vstack((y[1],-np.exp(y[0])))"
   ]
  },
  {
   "cell_type": "markdown",
   "metadata": {},
   "source": [
    "### Implement evaluation of the boundary condition residuals:"
   ]
  },
  {
   "cell_type": "code",
   "execution_count": 75,
   "metadata": {},
   "outputs": [],
   "source": [
    "def bc(ya,yb):\n",
    "    return np.array([ya[0],yb[0]])"
   ]
  },
  {
   "cell_type": "markdown",
   "metadata": {},
   "source": [
    "### Define an initial mesh with 5 nodes between 0 and 1"
   ]
  },
  {
   "cell_type": "code",
   "execution_count": 76,
   "metadata": {},
   "outputs": [],
   "source": [
    "x = np.linspace(0,1,5)"
   ]
  },
  {
   "cell_type": "markdown",
   "metadata": {},
   "source": [
    "### This problem is known to have two solutions, therefore we need two initial guesses (we will call a and b), a guess will be set to 0 and b to 3."
   ]
  },
  {
   "cell_type": "code",
   "execution_count": 77,
   "metadata": {},
   "outputs": [],
   "source": [
    "y_a = np.zeros((2, x.size))\n",
    "y_b = np.zeros((2, x.size))\n",
    "y_b[0] = 3"
   ]
  },
  {
   "cell_type": "markdown",
   "metadata": {},
   "source": [
    "### Now run the solver"
   ]
  },
  {
   "cell_type": "code",
   "execution_count": 78,
   "metadata": {},
   "outputs": [],
   "source": [
    "from scipy.integrate import solve_bvp\n",
    "res_a = solve_bvp(fun, bc, x, y_a)\n",
    "res_b = solve_bvp(fun, bc, x, y_b)"
   ]
  },
  {
   "cell_type": "markdown",
   "metadata": {},
   "source": [
    "### Plot the solutions"
   ]
  },
  {
   "cell_type": "code",
   "execution_count": 79,
   "metadata": {},
   "outputs": [
    {
     "data": {
      "image/png": "[encoded data removed]",
      "text/plain": [
       "<Figure size 432x288 with 1 Axes>"
      ]
     },
     "metadata": {
      "needs_background": "light"
     },
     "output_type": "display_data"
    }
   ],
   "source": [
    "x_plot = np.linspace(0, 1, 100)\n",
    "y_plot_a = res_a.sol(x_plot)[0]\n",
    "y_plot_b = res_b.sol(x_plot)[0]\n",
    "import matplotlib.pyplot as plt\n",
    "plt.plot(x_plot, y_plot_a, label='y_a')\n",
    "plt.plot(x_plot, y_plot_b, label='y_b')\n",
    "plt.legend()\n",
    "plt.xlabel(\"x\")\n",
    "plt.ylabel(\"y\")\n",
    "plt.show()"
   ]
  },
  {
   "cell_type": "code",
   "execution_count": null,
   "metadata": {},
   "outputs": [],
   "source": []
  },
  {
   "cell_type": "markdown",
   "metadata": {},
   "source": [
    "## Eigenvalue problem"
   ]
  },
  {
   "cell_type": "markdown",
   "metadata": {},
   "source": [
    "Consider the set of equations:\n",
    "\n",
    "### $$\\frac{dy_1}{dt}=-5y_1+3y_2 $$\n",
    "\n",
    "### $$\\frac{dy_2}{dt}=100y_1+301y_2 $$\n",
    "\n",
    "with initial conditions\n",
    "\n",
    "### $$y_1(0)=52.29$$\n",
    "\n",
    "### $$y_2(0)=83.82$$"
   ]
  },
  {
   "cell_type": "markdown",
   "metadata": {},
   "source": [
    "Define a matrix to find the eigenvalues and eigenvectors\n",
    "\n",
    "$$\\begin{bmatrix}5-\\lambda & -3\\\\-100 & 301-\\lambda\\end{bmatrix}\\begin{Bmatrix}e_1\\\\e_2\\end{Bmatrix}=\\{0\\}$$\n",
    "\n",
    "where $\\lambda$ and $\\{e\\}$ are the eigenvalue and eigenvector respectively."
   ]
  },
  {
   "cell_type": "markdown",
   "metadata": {},
   "source": [
    "Create matrix of values for coeffients in $a$, then solve for the eigenvalues."
   ]
  },
  {
   "cell_type": "code",
   "execution_count": 80,
   "metadata": {},
   "outputs": [],
   "source": [
    "a = np.matrix([[5,-3],[-100,301]])\n",
    "[d,v]=np.linalg.eig(a)"
   ]
  },
  {
   "cell_type": "markdown",
   "metadata": {},
   "source": [
    "### The eigenvalues are"
   ]
  },
  {
   "cell_type": "code",
   "execution_count": 81,
   "metadata": {},
   "outputs": [
    {
     "data": {
      "text/plain": [
       "array([  3.98993323, 302.01006677])"
      ]
     },
     "execution_count": 81,
     "metadata": {},
     "output_type": "execute_result"
    }
   ],
   "source": [
    "d"
   ]
  },
  {
   "cell_type": "markdown",
   "metadata": {},
   "source": [
    "### The eigenvectors are"
   ]
  },
  {
   "cell_type": "code",
   "execution_count": 82,
   "metadata": {},
   "outputs": [
    {
     "data": {
      "text/plain": [
       "matrix([[-0.94772493,  0.01010015],\n",
       "        [-0.31908849, -0.99994899]])"
      ]
     },
     "execution_count": 82,
     "metadata": {},
     "output_type": "execute_result"
    }
   ],
   "source": [
    "v"
   ]
  },
  {
   "cell_type": "markdown",
   "metadata": {},
   "source": [
    "This would generate the general solutions as follows:\n",
    "\n",
    "### $$y_1=c_{11}e^{-3.9899t}+c_{12}e^{-302.0101t}$$\n",
    "\n",
    "### $$y_1=c_{21}e^{-3.9899t}+c_{22}e^{-302.0101t}$$\n",
    "\n",
    "we can then solve using the initial conditions at $t=0$\n",
    "\n",
    "### $$e^{0}=1$$\n",
    "\n",
    "therefore\n",
    "\n",
    "### $$y_1(0)=52.29=c_{11}+c_{12}$$\n",
    "\n",
    "### $$y_2(0)=83.82=c_{21}+c_{22}$$"
   ]
  },
  {
   "cell_type": "markdown",
   "metadata": {},
   "source": [
    "We can find the coeffients with the eigenvalues and eigenvectors with the initial conditions"
   ]
  },
  {
   "cell_type": "code",
   "execution_count": 83,
   "metadata": {},
   "outputs": [
    {
     "data": {
      "text/plain": [
       "matrix([[52.95654426]])"
      ]
     },
     "execution_count": 83,
     "metadata": {},
     "output_type": "execute_result"
    }
   ],
   "source": [
    "c = np.matrix([[52.29],[83.82]])\n",
    "cc = np.linalg.inv(v)*c\n",
    "c11 = cc[0]*v[0,0]\n",
    "c11"
   ]
  },
  {
   "cell_type": "code",
   "execution_count": 84,
   "metadata": {},
   "outputs": [
    {
     "data": {
      "text/plain": [
       "matrix([[17.82988194]])"
      ]
     },
     "execution_count": 84,
     "metadata": {},
     "output_type": "execute_result"
    }
   ],
   "source": [
    "c21 = cc[0]*v[1,0]\n",
    "c21"
   ]
  },
  {
   "cell_type": "code",
   "execution_count": 85,
   "metadata": {},
   "outputs": [
    {
     "data": {
      "text/plain": [
       "matrix([[-0.66654426]])"
      ]
     },
     "execution_count": 85,
     "metadata": {},
     "output_type": "execute_result"
    }
   ],
   "source": [
    "c12 = cc[1]*v[0,1]\n",
    "c12"
   ]
  },
  {
   "cell_type": "code",
   "execution_count": 86,
   "metadata": {},
   "outputs": [
    {
     "data": {
      "text/plain": [
       "matrix([[65.99011806]])"
      ]
     },
     "execution_count": 86,
     "metadata": {},
     "output_type": "execute_result"
    }
   ],
   "source": [
    "c22 = cc[1]*v[1,1]\n",
    "c22"
   ]
  },
  {
   "cell_type": "markdown",
   "metadata": {},
   "source": [
    "Therefore the solution is \n",
    "\n",
    "### $$y_1=52.96e^{-3.9899t}+0.67e^{-302.0101t}$$\n",
    "\n",
    "### $$y_1=17.83e^{-3.9899t}+65.99e^{-302.0101t}$$"
   ]
  },
  {
   "cell_type": "markdown",
   "metadata": {},
   "source": [
    "# Homework \n",
    "\n",
    "## Try to use the Secant method to solve this problem. Use the PDF for guidance and try to repurpose its code.\n",
    "\n",
    "$$\\frac{d^2y}{dx^2}-2y=8x(9-x)$$\n",
    "\n",
    "$$y(0)=0, \\space \\space \\space \\space y(9)=0$$"
   ]
  },
  {
   "cell_type": "code",
   "execution_count": 6,
   "metadata": {},
   "outputs": [
    {
     "data": {
      "image/png": "[encoded data removed]",
      "text/plain": [
       "<Figure size 432x288 with 1 Axes>"
      ]
     },
     "metadata": {
      "needs_background": "light"
     },
     "output_type": "display_data"
    }
   ],
   "source": [
    "import numpy as np\n",
    "from scipy.integrate import odeint\n",
    "from matplotlib import pyplot as plt\n",
    "\n",
    "# y'' +4y = -9sin(x), y(0) = 1., y(3*pi/4.) = -(1.+3*sqrt(2))/2., y'(0) = -2 \n",
    "# Exact Solution: y(x) = cos(2x) + (1/2)sin(2x) - 3sin(x)\n",
    "\n",
    "def find_t(f,a,b,alpha,beta,t0,t1,maxI):\n",
    "    sol1 = 1\n",
    "    i = 0\n",
    "    while abs(sol1-beta) > 10**-8 and i < maxI:\n",
    "        sol0 = odeint(f,np.array([alpha,t0]), [a,b],atol=1e-10)[1,0]\n",
    "        sol1 = odeint(f,np.array([alpha,t1]), [a,b],atol=1e-10)[1,0]\n",
    "        t2 =  t1 - (sol1 - beta)*(t1-t0)/(sol1-sol0)\n",
    "        t0 = t1\n",
    "        t1 = t2\n",
    "        i = i+1\n",
    "    if i == maxI:\n",
    "        print ('t not found')\n",
    "    return t2\n",
    "                              \n",
    "def solveSecant(f,X,a,b,alpha,beta,t0,t1,maxI):\n",
    "    t = find_t(f,a,b,alpha,beta,t0,t1,maxI)\n",
    "    sol = odeint(f,np.array([alpha,t]), X,atol=1e-10)[:,0]\n",
    "    return sol\n",
    "\n",
    "def ode(y,x):\n",
    "    return np.array([y[1], 2*y[0]+8*x*(9-x)])\n",
    "\n",
    "X= np.linspace(0,9,100)\n",
    "Y = solveSecant(ode,X,0,9,0,0,-1,1,40)\n",
    "                            \n",
    "plt.plot(X,Y,'-k',linewidth=2) \n",
    "plt.show()"
   ]
  },
  {
   "cell_type": "code",
   "execution_count": null,
   "metadata": {},
   "outputs": [],
   "source": []
  }
 ],
 "metadata": {
  "kernelspec": {
   "display_name": "Python 3",
   "language": "python",
   "name": "python3"
  },
  "language_info": {
   "codemirror_mode": {
    "name": "ipython",
    "version": 3
   },
   "file_extension": ".py",
   "mimetype": "text/x-python",
   "name": "python",
   "nbconvert_exporter": "python",
   "pygments_lexer": "ipython3",
   "version": "3.7.1"
  }
 },
 "nbformat": 4,
 "nbformat_minor": 4
}
